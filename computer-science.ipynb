{
 "cells": [
  {
   "cell_type": "markdown",
   "metadata": {},
   "source": [
    "### QUESTION 1\n",
    "The Markle Tree has done better than the Single hash method in terms of the storage, computational intensiveness and scalability. The following reasons are why single hash method is not the best choice for verifying large number of transactions i a block:\n",
    "1. If any branch of the block need modification, the entire new block must be re-hashed before being distributed to the network.\n",
    "2. Complex Verification\n",
    "      Verification of any transaction T from a block, the verifier must compute the hash of the entire block from the originating transaction . Compare the computed hash with the root hash for that block provided by the blockchain network. This process requires downloading the entire block consuming more verifier memory. \n",
    "      For N number of transactions, the verifier needs to first download the entire block(s) of the transactions and carry the N number of hash computations before arriving at the root hash for the block(s). \n",
    "\n",
    "3. When a verification fails, it is almost impossible to detect what section of the block has been modified.\n",
    "\n",
    "\n",
    "Merkle Trees by design solve the problem with Single Hashes:\n",
    "1. Simplified Verification: To verify a transaction T which belongs to a merkle tree, the verifier needs to compute the merkle root from that transactions hash. Given the audit trail, for N number of transactions, there are log_2(N) number of hash computations to be made before arriving at the merkle root. The Single Hash method requires N number of hash computations to verify N number of transactions. \n",
    "\n",
    "2. Failed verifications can be traced directly to the exact section of the block where a change has occured."
   ]
  },
  {
   "cell_type": "code",
   "execution_count": 1,
   "metadata": {},
   "outputs": [],
   "source": [
    "def modInverse(a, m):\n",
    "    m0 = m\n",
    "    y = 0\n",
    "    x = 1\n",
    " \n",
    "    if (m == 1):\n",
    "        return 0\n",
    " \n",
    "    while (a > 1):\n",
    " \n",
    "        # q is quotient\n",
    "        q = a // m\n",
    " \n",
    "        t = m\n",
    " \n",
    "        # m is remainder now, process\n",
    "        # same as Euclid's algo\n",
    "        m = a % m\n",
    "        a = t\n",
    "        t = y\n",
    " \n",
    "        # Update x and y\n",
    "        y = x - q * y\n",
    "        x = t\n",
    " \n",
    "    # Make x positive\n",
    "    if (x < 0):\n",
    "        x = x + m0\n",
    " \n",
    "    return x"
   ]
  },
  {
   "cell_type": "code",
   "execution_count": 6,
   "metadata": {},
   "outputs": [
    {
     "data": {
      "text/plain": [
       "4"
      ]
     },
     "execution_count": 6,
     "metadata": {},
     "output_type": "execute_result"
    }
   ],
   "source": [
    "modInverse(3,11)"
   ]
  },
  {
   "cell_type": "code",
   "execution_count": null,
   "metadata": {},
   "outputs": [],
   "source": []
  }
 ],
 "metadata": {
  "kernelspec": {
   "display_name": "Python 3",
   "language": "python",
   "name": "python3"
  },
  "language_info": {
   "codemirror_mode": {
    "name": "ipython",
    "version": 3
   },
   "file_extension": ".py",
   "mimetype": "text/x-python",
   "name": "python",
   "nbconvert_exporter": "python",
   "pygments_lexer": "ipython3",
   "version": "3.8.5"
  }
 },
 "nbformat": 4,
 "nbformat_minor": 4
}
